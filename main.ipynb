{
 "cells": [
  {
   "cell_type": "markdown",
   "metadata": {},
   "source": [
    "# AWID Intrusion Detection\n",
    "\n",
    "The AWID dataset is ..."
   ]
  },
  {
   "cell_type": "markdown",
   "metadata": {},
   "source": [
    "## \tStep 1: Cleaning and EDA"
   ]
  },
  {
   "cell_type": "code",
   "execution_count": 1,
   "metadata": {},
   "outputs": [
    {
     "name": "stderr",
     "output_type": "stream",
     "text": [
      "C:\\Users\\Harman\\AppData\\Local\\Temp\\ipykernel_20936\\3668333329.py:42: DtypeWarning: Columns (37,38,39,40,41,42,43,44,45,47,48,49,50,51,52,53,54,55,56,57,58,59,60,61,62,74,88) have mixed types. Specify dtype option on import or set low_memory=False.\n",
      "  df = pd.read_csv(\"./data/original/full_dataset.zip\", compression='zip', header=None, names=header_columns)\n"
     ]
    }
   ],
   "source": [
    "import pandas as pd\n",
    "\n",
    "header_columns = [\n",
    "\t\"frame.interface_id\", \"frame.dlt\", \"frame.offset_shift\", \"frame.time_epoch\",\n",
    "\t\"frame.time_delta\", \"frame.time_delta_displayed\", \"frame.time_relative\",\n",
    "\t\"frame.len\", \"frame.cap_len\", \"frame.marked\", \"frame.ignored\", \"radiotap.version\",\n",
    "\t\"radiotap.pad\", \"radiotap.length\", \"radiotap.present.tsft\", \"radiotap.present.flags\",\n",
    "\t\"radiotap.present.rate\", \"radiotap.present.channel\", \"radiotap.present.fhss\",\n",
    "\t\"radiotap.present.dbm_antsignal\", \"radiotap.present.dbm_antnoise\", \"radiotap.present.lock_quality\",\n",
    "\t\"radiotap.present.tx_attenuation\", \"radiotap.present.db_tx_attenuation\", \"radiotap.present.dbm_tx_power\",\n",
    "\t\"radiotap.present.antenna\", \"radiotap.present.db_antsignal\", \"radiotap.present.db_antnoise\", \n",
    "\t\"radiotap.present.rxflags\", \"radiotap.present.xchannel\", \"radiotap.present.mcs\", \"radiotap.present.ampdu\", \n",
    "\t\"radiotap.present.vht\", \"radiotap.present.reserved\", \"radiotap.present.rtap_ns\", \"radiotap.present.vendor_ns\", \n",
    "\t\"radiotap.present.ext\", \"radiotap.mactime\", \"radiotap.flags.cfp\", \"radiotap.flags.preamble\", \n",
    "\t\"radiotap.flags.wep\", \"radiotap.flags.frag\", \"radiotap.flags.fcs\", \"radiotap.flags.datapad\", \n",
    "\t\"radiotap.flags.badfcs\", \"radiotap.flags.shortgi\", \"radiotap.datarate\", \"radiotap.channel.freq\", \n",
    "\t\"radiotap.channel.type.turbo\", \"radiotap.channel.type.cck\", \"radiotap.channel.type.ofdm\", \"radiotap.channel.type.2ghz\",\n",
    "\t\"radiotap.channel.type.5ghz\", \"radiotap.channel.type.passive\", \"radiotap.channel.type.dynamic\", \"radiotap.channel.type.gfsk\",\n",
    "\t\"radiotap.channel.type.gsm\", \"radiotap.channel.type.sturbo\", \"radiotap.channel.type.half\", \"radiotap.channel.type.quarter\",\n",
    "\t\"radiotap.dbm_antsignal\", \"radiotap.antenna\", \"radiotap.rxflags.badplcp\", \"wlan.fc.type_subtype\", \"wlan.fc.version\",\n",
    "\t\"wlan.fc.type\", \"wlan.fc.subtype\", \"wlan.fc.ds\", \"wlan.fc.frag\", \"wlan.fc.retry\", \"wlan.fc.pwrmgt\", \"wlan.fc.moredata\",\n",
    "\t\"wlan.fc.protected\", \"wlan.fc.order\", \"wlan.duration\", \"wlan.ra\", \"wlan.da\", \"wlan.ta\", \"wlan.sa\", \"wlan.bssid\", \"wlan.frag\",\n",
    "\t\"wlan.seq\", \"wlan.bar.type\", \"wlan.ba.control.ackpolicy\", \"wlan.ba.control.multitid\", \"wlan.ba.control.cbitmap\",\n",
    "\t\"wlan.bar.compressed.tidinfo\", \"wlan.ba.bm\", \"wlan.fcs_good\", \"wlan_mgt.fixed.capabilities.ess\",\n",
    "\t\"wlan_mgt.fixed.capabilities.ibss\", \"wlan_mgt.fixed.capabilities.cfpoll.ap\", \"wlan_mgt.fixed.capabilities.privacy\",\n",
    "\t\"wlan_mgt.fixed.capabilities.preamble\", \"wlan_mgt.fixed.capabilities.pbcc\", \"wlan_mgt.fixed.capabilities.agility\",\n",
    "\t\"wlan_mgt.fixed.capabilities.spec_man\", \"wlan_mgt.fixed.capabilities.short_slot_time\", \"wlan_mgt.fixed.capabilities.apsd\",\n",
    "\t\"wlan_mgt.fixed.capabilities.radio_measurement\", \"wlan_mgt.fixed.capabilities.dsss_ofdm\", \"wlan_mgt.fixed.capabilities.del_blk_ack\",\n",
    "\t\"wlan_mgt.fixed.capabilities.imm_blk_ack\", \"wlan_mgt.fixed.listen_ival\", \"wlan_mgt.fixed.current_ap\", \"wlan_mgt.fixed.status_code\",\n",
    "\t\"wlan_mgt.fixed.timestamp\", \"wlan_mgt.fixed.beacon\", \"wlan_mgt.fixed.aid\", \"wlan_mgt.fixed.reason_code\", \"wlan_mgt.fixed.auth.alg\",\n",
    "\t\"wlan_mgt.fixed.auth_seq\", \"wlan_mgt.fixed.category_code\", \"wlan_mgt.fixed.htact\", \"wlan_mgt.fixed.chanwidth\",\n",
    "\t\"wlan_mgt.fixed.fragment\", \"wlan_mgt.fixed.sequence\", \"wlan_mgt.tagged.all\", \"wlan_mgt.ssid\", \"wlan_mgt.ds.current_channel\",\n",
    "\t\"wlan_mgt.tim.dtim_count\", \"wlan_mgt.tim.dtim_period\", \"wlan_mgt.tim.bmapctl.multicast\", \"wlan_mgt.tim.bmapctl.offset\",\n",
    "\t\"wlan_mgt.country_info.environment\", \"wlan_mgt.rsn.version\", \"wlan_mgt.rsn.gcs.type\", \"wlan_mgt.rsn.pcs.count\", \"wlan_mgt.rsn.akms.count\",\n",
    "\t\"wlan_mgt.rsn.akms.type\", \"wlan_mgt.rsn.capabilities.preauth\", \"wlan_mgt.rsn.capabilities.no_pairwise\", \"wlan_mgt.rsn.capabilities.ptksa_replay_counter\",\n",
    "\t\"wlan_mgt.rsn.capabilities.gtksa_replay_counter\", \"wlan_mgt.rsn.capabilities.mfpr\", \"wlan_mgt.rsn.capabilities.mfpc\", \"wlan_mgt.rsn.capabilities.peerkey\",\n",
    "\t\"wlan_mgt.tcprep.trsmt_pow\", \"wlan_mgt.tcprep.link_mrg\", \"wlan.wep.iv\", \"wlan.wep.key\", \"wlan.wep.icv\", \"wlan.tkip.extiv\", \"wlan.ccmp.extiv\",\n",
    "\t\"wlan.qos.tid\", \"wlan.qos.priority\", \"wlan.qos.eosp\", \"wlan.qos.ack\", \"wlan.qos.amsdupresent\", \"wlan.qos.buf_state_indicated\", # Remove this duplicate\n",
    "\t\"wlan.qos.bit4\", \"wlan.qos.txop_dur_req\", \"data.len\", \"class\"\n",
    "]\n",
    "\n",
    "df = pd.read_csv(\"./data/original/full_dataset.zip\", compression='zip', header=None, names=header_columns)"
   ]
  },
  {
   "cell_type": "code",
   "execution_count": 2,
   "metadata": {},
   "outputs": [
    {
     "data": {
      "text/plain": [
       "0"
      ]
     },
     "execution_count": 2,
     "metadata": {},
     "output_type": "execute_result"
    }
   ],
   "source": [
    "df.isna().sum().sum()\n",
    "\n",
    "# No missing values"
   ]
  },
  {
   "cell_type": "markdown",
   "metadata": {},
   "source": [
    "This dataset contains a lot of ?'s. We're just going to drop all columns whose rows contain more than 10%  of ?"
   ]
  },
  {
   "cell_type": "code",
   "execution_count": 13,
   "metadata": {},
   "outputs": [],
   "source": [
    "# Replace '?' with NaN\n",
    "df.replace('?', pd.NA, inplace=True)\n",
    "\n",
    "# Calculate the threshold for 10% of the rows\n",
    "threshold = len(df) * 0.1\n",
    "\n",
    "# Drop columns with more than 10% NaN values\n",
    "df.dropna(thresh=threshold, axis=1, inplace=True)"
   ]
  },
  {
   "cell_type": "code",
   "execution_count": 15,
   "metadata": {},
   "outputs": [
    {
     "data": {
      "text/html": [
       "<div>\n",
       "<style scoped>\n",
       "    .dataframe tbody tr th:only-of-type {\n",
       "        vertical-align: middle;\n",
       "    }\n",
       "\n",
       "    .dataframe tbody tr th {\n",
       "        vertical-align: top;\n",
       "    }\n",
       "\n",
       "    .dataframe thead th {\n",
       "        text-align: right;\n",
       "    }\n",
       "</style>\n",
       "<table border=\"1\" class=\"dataframe\">\n",
       "  <thead>\n",
       "    <tr style=\"text-align: right;\">\n",
       "      <th></th>\n",
       "      <th>frame.dlt</th>\n",
       "      <th>frame.offset_shift</th>\n",
       "      <th>frame.time_epoch</th>\n",
       "      <th>frame.time_delta</th>\n",
       "      <th>frame.time_delta_displayed</th>\n",
       "      <th>frame.time_relative</th>\n",
       "      <th>frame.len</th>\n",
       "      <th>frame.cap_len</th>\n",
       "      <th>frame.marked</th>\n",
       "      <th>frame.ignored</th>\n",
       "      <th>...</th>\n",
       "      <th>wlan.fc.version</th>\n",
       "      <th>wlan.fc.type</th>\n",
       "      <th>wlan.fc.subtype</th>\n",
       "      <th>wlan.fc.ds</th>\n",
       "      <th>wlan.fc.frag</th>\n",
       "      <th>wlan.fc.retry</th>\n",
       "      <th>wlan.fc.pwrmgt</th>\n",
       "      <th>wlan.fc.moredata</th>\n",
       "      <th>wlan.fc.protected</th>\n",
       "      <th>class</th>\n",
       "    </tr>\n",
       "  </thead>\n",
       "  <tbody>\n",
       "    <tr>\n",
       "      <th>0</th>\n",
       "      <td>0.0</td>\n",
       "      <td>1.393661e+09</td>\n",
       "      <td>0.000000</td>\n",
       "      <td>0.000000</td>\n",
       "      <td>0.000000</td>\n",
       "      <td>261</td>\n",
       "      <td>261</td>\n",
       "      <td>0</td>\n",
       "      <td>0</td>\n",
       "      <td>0</td>\n",
       "      <td>...</td>\n",
       "      <td>0</td>\n",
       "      <td>8</td>\n",
       "      <td>0x00</td>\n",
       "      <td>0</td>\n",
       "      <td>0</td>\n",
       "      <td>0</td>\n",
       "      <td>0</td>\n",
       "      <td>0</td>\n",
       "      <td>0</td>\n",
       "      <td>normal</td>\n",
       "    </tr>\n",
       "    <tr>\n",
       "      <th>0</th>\n",
       "      <td>0.0</td>\n",
       "      <td>1.393661e+09</td>\n",
       "      <td>0.024271</td>\n",
       "      <td>0.024271</td>\n",
       "      <td>0.024271</td>\n",
       "      <td>185</td>\n",
       "      <td>185</td>\n",
       "      <td>0</td>\n",
       "      <td>0</td>\n",
       "      <td>0</td>\n",
       "      <td>...</td>\n",
       "      <td>0</td>\n",
       "      <td>8</td>\n",
       "      <td>0x00</td>\n",
       "      <td>0</td>\n",
       "      <td>0</td>\n",
       "      <td>0</td>\n",
       "      <td>0</td>\n",
       "      <td>0</td>\n",
       "      <td>0</td>\n",
       "      <td>normal</td>\n",
       "    </tr>\n",
       "    <tr>\n",
       "      <th>0</th>\n",
       "      <td>0.0</td>\n",
       "      <td>1.393661e+09</td>\n",
       "      <td>0.001631</td>\n",
       "      <td>0.001631</td>\n",
       "      <td>0.025902</td>\n",
       "      <td>185</td>\n",
       "      <td>185</td>\n",
       "      <td>0</td>\n",
       "      <td>0</td>\n",
       "      <td>0</td>\n",
       "      <td>...</td>\n",
       "      <td>0</td>\n",
       "      <td>8</td>\n",
       "      <td>0x00</td>\n",
       "      <td>0</td>\n",
       "      <td>0</td>\n",
       "      <td>0</td>\n",
       "      <td>0</td>\n",
       "      <td>0</td>\n",
       "      <td>0</td>\n",
       "      <td>normal</td>\n",
       "    </tr>\n",
       "    <tr>\n",
       "      <th>0</th>\n",
       "      <td>0.0</td>\n",
       "      <td>1.393661e+09</td>\n",
       "      <td>0.055325</td>\n",
       "      <td>0.055325</td>\n",
       "      <td>0.081227</td>\n",
       "      <td>159</td>\n",
       "      <td>159</td>\n",
       "      <td>0</td>\n",
       "      <td>0</td>\n",
       "      <td>0</td>\n",
       "      <td>...</td>\n",
       "      <td>0</td>\n",
       "      <td>8</td>\n",
       "      <td>0x00</td>\n",
       "      <td>0</td>\n",
       "      <td>0</td>\n",
       "      <td>0</td>\n",
       "      <td>0</td>\n",
       "      <td>0</td>\n",
       "      <td>0</td>\n",
       "      <td>normal</td>\n",
       "    </tr>\n",
       "    <tr>\n",
       "      <th>0</th>\n",
       "      <td>0.0</td>\n",
       "      <td>1.393661e+09</td>\n",
       "      <td>0.000415</td>\n",
       "      <td>0.000415</td>\n",
       "      <td>0.081642</td>\n",
       "      <td>54</td>\n",
       "      <td>54</td>\n",
       "      <td>0</td>\n",
       "      <td>0</td>\n",
       "      <td>0</td>\n",
       "      <td>...</td>\n",
       "      <td>2</td>\n",
       "      <td>4</td>\n",
       "      <td>0x01</td>\n",
       "      <td>0</td>\n",
       "      <td>0</td>\n",
       "      <td>0</td>\n",
       "      <td>0</td>\n",
       "      <td>0</td>\n",
       "      <td>0</td>\n",
       "      <td>normal</td>\n",
       "    </tr>\n",
       "  </tbody>\n",
       "</table>\n",
       "<p>5 rows × 48 columns</p>\n",
       "</div>"
      ],
      "text/plain": [
       "   frame.dlt  frame.offset_shift  frame.time_epoch  frame.time_delta  \\\n",
       "0        0.0        1.393661e+09          0.000000          0.000000   \n",
       "0        0.0        1.393661e+09          0.024271          0.024271   \n",
       "0        0.0        1.393661e+09          0.001631          0.001631   \n",
       "0        0.0        1.393661e+09          0.055325          0.055325   \n",
       "0        0.0        1.393661e+09          0.000415          0.000415   \n",
       "\n",
       "   frame.time_delta_displayed  frame.time_relative  frame.len  frame.cap_len  \\\n",
       "0                    0.000000                  261        261              0   \n",
       "0                    0.024271                  185        185              0   \n",
       "0                    0.025902                  185        185              0   \n",
       "0                    0.081227                  159        159              0   \n",
       "0                    0.081642                   54         54              0   \n",
       "\n",
       "   frame.marked  frame.ignored  ...  wlan.fc.version  wlan.fc.type  \\\n",
       "0             0              0  ...                0             8   \n",
       "0             0              0  ...                0             8   \n",
       "0             0              0  ...                0             8   \n",
       "0             0              0  ...                0             8   \n",
       "0             0              0  ...                2             4   \n",
       "\n",
       "   wlan.fc.subtype  wlan.fc.ds  wlan.fc.frag  wlan.fc.retry  wlan.fc.pwrmgt  \\\n",
       "0             0x00           0             0              0               0   \n",
       "0             0x00           0             0              0               0   \n",
       "0             0x00           0             0              0               0   \n",
       "0             0x00           0             0              0               0   \n",
       "0             0x01           0             0              0               0   \n",
       "\n",
       "   wlan.fc.moredata  wlan.fc.protected   class  \n",
       "0                 0                  0  normal  \n",
       "0                 0                  0  normal  \n",
       "0                 0                  0  normal  \n",
       "0                 0                  0  normal  \n",
       "0                 0                  0  normal  \n",
       "\n",
       "[5 rows x 48 columns]"
      ]
     },
     "execution_count": 15,
     "metadata": {},
     "output_type": "execute_result"
    }
   ],
   "source": [
    "df.head()"
   ]
  },
  {
   "cell_type": "code",
   "execution_count": 16,
   "metadata": {},
   "outputs": [
    {
     "data": {
      "text/plain": [
       "(1795575, 48)"
      ]
     },
     "execution_count": 16,
     "metadata": {},
     "output_type": "execute_result"
    }
   ],
   "source": [
    "df.shape"
   ]
  },
  {
   "cell_type": "code",
   "execution_count": 17,
   "metadata": {},
   "outputs": [
    {
     "name": "stdout",
     "output_type": "stream",
     "text": [
      "<class 'pandas.core.frame.DataFrame'>\n",
      "Index: 1795575 entries, 0 to 0\n",
      "Data columns (total 48 columns):\n",
      " #   Column                              Dtype  \n",
      "---  ------                              -----  \n",
      " 0   frame.dlt                           float64\n",
      " 1   frame.offset_shift                  float64\n",
      " 2   frame.time_epoch                    float64\n",
      " 3   frame.time_delta                    float64\n",
      " 4   frame.time_delta_displayed          float64\n",
      " 5   frame.time_relative                 int64  \n",
      " 6   frame.len                           int64  \n",
      " 7   frame.cap_len                       int64  \n",
      " 8   frame.marked                        int64  \n",
      " 9   frame.ignored                       int64  \n",
      " 10  radiotap.version                    int64  \n",
      " 11  radiotap.pad                        int64  \n",
      " 12  radiotap.length                     int64  \n",
      " 13  radiotap.present.tsft               int64  \n",
      " 14  radiotap.present.flags              int64  \n",
      " 15  radiotap.present.rate               int64  \n",
      " 16  radiotap.present.channel            int64  \n",
      " 17  radiotap.present.fhss               int64  \n",
      " 18  radiotap.present.dbm_antsignal      int64  \n",
      " 19  radiotap.present.dbm_antnoise       int64  \n",
      " 20  radiotap.present.lock_quality       int64  \n",
      " 21  radiotap.present.tx_attenuation     int64  \n",
      " 22  radiotap.present.db_tx_attenuation  int64  \n",
      " 23  radiotap.present.dbm_tx_power       int64  \n",
      " 24  radiotap.present.antenna            int64  \n",
      " 25  radiotap.present.db_antsignal       int64  \n",
      " 26  radiotap.present.db_antnoise        int64  \n",
      " 27  radiotap.present.rxflags            int64  \n",
      " 28  radiotap.present.xchannel           int64  \n",
      " 29  radiotap.present.mcs                int64  \n",
      " 30  radiotap.present.ampdu              int64  \n",
      " 31  radiotap.present.vht                object \n",
      " 32  radiotap.present.reserved           int64  \n",
      " 33  radiotap.present.rtap_ns            int64  \n",
      " 34  radiotap.present.vendor_ns          int64  \n",
      " 35  radiotap.flags.shortgi              float64\n",
      " 36  radiotap.rxflags.badplcp            object \n",
      " 37  wlan.fc.type_subtype                int64  \n",
      " 38  wlan.fc.version                     int64  \n",
      " 39  wlan.fc.type                        int64  \n",
      " 40  wlan.fc.subtype                     object \n",
      " 41  wlan.fc.ds                          int64  \n",
      " 42  wlan.fc.frag                        int64  \n",
      " 43  wlan.fc.retry                       int64  \n",
      " 44  wlan.fc.pwrmgt                      int64  \n",
      " 45  wlan.fc.moredata                    int64  \n",
      " 46  wlan.fc.protected                   int64  \n",
      " 47  class                               object \n",
      "dtypes: float64(6), int64(38), object(4)\n",
      "memory usage: 671.3+ MB\n"
     ]
    }
   ],
   "source": [
    "df.info()"
   ]
  },
  {
   "cell_type": "code",
   "execution_count": 18,
   "metadata": {},
   "outputs": [
    {
     "data": {
      "text/html": [
       "<div>\n",
       "<style scoped>\n",
       "    .dataframe tbody tr th:only-of-type {\n",
       "        vertical-align: middle;\n",
       "    }\n",
       "\n",
       "    .dataframe tbody tr th {\n",
       "        vertical-align: top;\n",
       "    }\n",
       "\n",
       "    .dataframe thead th {\n",
       "        text-align: right;\n",
       "    }\n",
       "</style>\n",
       "<table border=\"1\" class=\"dataframe\">\n",
       "  <thead>\n",
       "    <tr style=\"text-align: right;\">\n",
       "      <th></th>\n",
       "      <th>frame.dlt</th>\n",
       "      <th>frame.offset_shift</th>\n",
       "      <th>frame.time_epoch</th>\n",
       "      <th>frame.time_delta</th>\n",
       "      <th>frame.time_delta_displayed</th>\n",
       "      <th>frame.time_relative</th>\n",
       "      <th>frame.len</th>\n",
       "      <th>frame.cap_len</th>\n",
       "      <th>frame.marked</th>\n",
       "      <th>frame.ignored</th>\n",
       "      <th>...</th>\n",
       "      <th>radiotap.flags.shortgi</th>\n",
       "      <th>wlan.fc.type_subtype</th>\n",
       "      <th>wlan.fc.version</th>\n",
       "      <th>wlan.fc.type</th>\n",
       "      <th>wlan.fc.ds</th>\n",
       "      <th>wlan.fc.frag</th>\n",
       "      <th>wlan.fc.retry</th>\n",
       "      <th>wlan.fc.pwrmgt</th>\n",
       "      <th>wlan.fc.moredata</th>\n",
       "      <th>wlan.fc.protected</th>\n",
       "    </tr>\n",
       "  </thead>\n",
       "  <tbody>\n",
       "    <tr>\n",
       "      <th>count</th>\n",
       "      <td>1795575.0</td>\n",
       "      <td>1.795575e+06</td>\n",
       "      <td>1.795575e+06</td>\n",
       "      <td>1.795575e+06</td>\n",
       "      <td>1.795575e+06</td>\n",
       "      <td>1.795575e+06</td>\n",
       "      <td>1.795575e+06</td>\n",
       "      <td>1795575.0</td>\n",
       "      <td>1795575.0</td>\n",
       "      <td>1795575.0</td>\n",
       "      <td>...</td>\n",
       "      <td>1.795575e+06</td>\n",
       "      <td>1795575.0</td>\n",
       "      <td>1.795575e+06</td>\n",
       "      <td>1.795575e+06</td>\n",
       "      <td>1.795575e+06</td>\n",
       "      <td>1.795575e+06</td>\n",
       "      <td>1.795575e+06</td>\n",
       "      <td>1.795575e+06</td>\n",
       "      <td>1.795575e+06</td>\n",
       "      <td>1795575.0</td>\n",
       "    </tr>\n",
       "    <tr>\n",
       "      <th>mean</th>\n",
       "      <td>0.0</td>\n",
       "      <td>1.393663e+09</td>\n",
       "      <td>2.004690e-03</td>\n",
       "      <td>2.004690e-03</td>\n",
       "      <td>1.870294e+03</td>\n",
       "      <td>5.153149e+02</td>\n",
       "      <td>5.153149e+02</td>\n",
       "      <td>0.0</td>\n",
       "      <td>0.0</td>\n",
       "      <td>0.0</td>\n",
       "      <td>...</td>\n",
       "      <td>2.513950e+01</td>\n",
       "      <td>0.0</td>\n",
       "      <td>1.272582e+00</td>\n",
       "      <td>8.499055e+00</td>\n",
       "      <td>3.748103e-04</td>\n",
       "      <td>1.271080e-01</td>\n",
       "      <td>2.325216e-02</td>\n",
       "      <td>1.772691e-03</td>\n",
       "      <td>4.932927e-01</td>\n",
       "      <td>0.0</td>\n",
       "    </tr>\n",
       "    <tr>\n",
       "      <th>std</th>\n",
       "      <td>0.0</td>\n",
       "      <td>8.674448e+02</td>\n",
       "      <td>6.379536e-03</td>\n",
       "      <td>6.379536e-03</td>\n",
       "      <td>8.674448e+02</td>\n",
       "      <td>6.649245e+02</td>\n",
       "      <td>6.649245e+02</td>\n",
       "      <td>0.0</td>\n",
       "      <td>0.0</td>\n",
       "      <td>0.0</td>\n",
       "      <td>...</td>\n",
       "      <td>2.373590e+01</td>\n",
       "      <td>0.0</td>\n",
       "      <td>8.198060e-01</td>\n",
       "      <td>4.173015e+00</td>\n",
       "      <td>1.935639e-02</td>\n",
       "      <td>3.330940e-01</td>\n",
       "      <td>1.507034e-01</td>\n",
       "      <td>4.206602e-02</td>\n",
       "      <td>4.999551e-01</td>\n",
       "      <td>0.0</td>\n",
       "    </tr>\n",
       "    <tr>\n",
       "      <th>min</th>\n",
       "      <td>0.0</td>\n",
       "      <td>1.393661e+09</td>\n",
       "      <td>0.000000e+00</td>\n",
       "      <td>0.000000e+00</td>\n",
       "      <td>0.000000e+00</td>\n",
       "      <td>4.000000e+01</td>\n",
       "      <td>4.000000e+01</td>\n",
       "      <td>0.0</td>\n",
       "      <td>0.0</td>\n",
       "      <td>0.0</td>\n",
       "      <td>...</td>\n",
       "      <td>1.000000e+00</td>\n",
       "      <td>0.0</td>\n",
       "      <td>0.000000e+00</td>\n",
       "      <td>0.000000e+00</td>\n",
       "      <td>0.000000e+00</td>\n",
       "      <td>0.000000e+00</td>\n",
       "      <td>0.000000e+00</td>\n",
       "      <td>0.000000e+00</td>\n",
       "      <td>0.000000e+00</td>\n",
       "      <td>0.0</td>\n",
       "    </tr>\n",
       "    <tr>\n",
       "      <th>25%</th>\n",
       "      <td>0.0</td>\n",
       "      <td>1.393662e+09</td>\n",
       "      <td>3.150000e-04</td>\n",
       "      <td>3.150000e-04</td>\n",
       "      <td>1.027875e+03</td>\n",
       "      <td>4.000000e+01</td>\n",
       "      <td>4.000000e+01</td>\n",
       "      <td>0.0</td>\n",
       "      <td>0.0</td>\n",
       "      <td>0.0</td>\n",
       "      <td>...</td>\n",
       "      <td>1.000000e+00</td>\n",
       "      <td>0.0</td>\n",
       "      <td>1.000000e+00</td>\n",
       "      <td>8.000000e+00</td>\n",
       "      <td>0.000000e+00</td>\n",
       "      <td>0.000000e+00</td>\n",
       "      <td>0.000000e+00</td>\n",
       "      <td>0.000000e+00</td>\n",
       "      <td>0.000000e+00</td>\n",
       "      <td>0.0</td>\n",
       "    </tr>\n",
       "    <tr>\n",
       "      <th>50%</th>\n",
       "      <td>0.0</td>\n",
       "      <td>1.393663e+09</td>\n",
       "      <td>5.490000e-04</td>\n",
       "      <td>5.490000e-04</td>\n",
       "      <td>1.902614e+03</td>\n",
       "      <td>1.120000e+02</td>\n",
       "      <td>1.120000e+02</td>\n",
       "      <td>0.0</td>\n",
       "      <td>0.0</td>\n",
       "      <td>0.0</td>\n",
       "      <td>...</td>\n",
       "      <td>2.400000e+01</td>\n",
       "      <td>0.0</td>\n",
       "      <td>2.000000e+00</td>\n",
       "      <td>8.000000e+00</td>\n",
       "      <td>0.000000e+00</td>\n",
       "      <td>0.000000e+00</td>\n",
       "      <td>0.000000e+00</td>\n",
       "      <td>0.000000e+00</td>\n",
       "      <td>0.000000e+00</td>\n",
       "      <td>0.0</td>\n",
       "    </tr>\n",
       "    <tr>\n",
       "      <th>75%</th>\n",
       "      <td>0.0</td>\n",
       "      <td>1.393664e+09</td>\n",
       "      <td>1.113000e-03</td>\n",
       "      <td>1.113000e-03</td>\n",
       "      <td>2.524325e+03</td>\n",
       "      <td>1.552000e+03</td>\n",
       "      <td>1.552000e+03</td>\n",
       "      <td>0.0</td>\n",
       "      <td>0.0</td>\n",
       "      <td>0.0</td>\n",
       "      <td>...</td>\n",
       "      <td>5.400000e+01</td>\n",
       "      <td>0.0</td>\n",
       "      <td>2.000000e+00</td>\n",
       "      <td>1.200000e+01</td>\n",
       "      <td>0.000000e+00</td>\n",
       "      <td>0.000000e+00</td>\n",
       "      <td>0.000000e+00</td>\n",
       "      <td>0.000000e+00</td>\n",
       "      <td>1.000000e+00</td>\n",
       "      <td>0.0</td>\n",
       "    </tr>\n",
       "    <tr>\n",
       "      <th>max</th>\n",
       "      <td>0.0</td>\n",
       "      <td>1.393665e+09</td>\n",
       "      <td>3.502630e-01</td>\n",
       "      <td>3.502630e-01</td>\n",
       "      <td>3.599571e+03</td>\n",
       "      <td>1.570000e+03</td>\n",
       "      <td>1.570000e+03</td>\n",
       "      <td>0.0</td>\n",
       "      <td>0.0</td>\n",
       "      <td>0.0</td>\n",
       "      <td>...</td>\n",
       "      <td>5.400000e+01</td>\n",
       "      <td>0.0</td>\n",
       "      <td>2.000000e+00</td>\n",
       "      <td>1.300000e+01</td>\n",
       "      <td>1.000000e+00</td>\n",
       "      <td>1.000000e+00</td>\n",
       "      <td>1.000000e+00</td>\n",
       "      <td>1.000000e+00</td>\n",
       "      <td>1.000000e+00</td>\n",
       "      <td>0.0</td>\n",
       "    </tr>\n",
       "  </tbody>\n",
       "</table>\n",
       "<p>8 rows × 44 columns</p>\n",
       "</div>"
      ],
      "text/plain": [
       "       frame.dlt  frame.offset_shift  frame.time_epoch  frame.time_delta  \\\n",
       "count  1795575.0        1.795575e+06      1.795575e+06      1.795575e+06   \n",
       "mean         0.0        1.393663e+09      2.004690e-03      2.004690e-03   \n",
       "std          0.0        8.674448e+02      6.379536e-03      6.379536e-03   \n",
       "min          0.0        1.393661e+09      0.000000e+00      0.000000e+00   \n",
       "25%          0.0        1.393662e+09      3.150000e-04      3.150000e-04   \n",
       "50%          0.0        1.393663e+09      5.490000e-04      5.490000e-04   \n",
       "75%          0.0        1.393664e+09      1.113000e-03      1.113000e-03   \n",
       "max          0.0        1.393665e+09      3.502630e-01      3.502630e-01   \n",
       "\n",
       "       frame.time_delta_displayed  frame.time_relative     frame.len  \\\n",
       "count                1.795575e+06         1.795575e+06  1.795575e+06   \n",
       "mean                 1.870294e+03         5.153149e+02  5.153149e+02   \n",
       "std                  8.674448e+02         6.649245e+02  6.649245e+02   \n",
       "min                  0.000000e+00         4.000000e+01  4.000000e+01   \n",
       "25%                  1.027875e+03         4.000000e+01  4.000000e+01   \n",
       "50%                  1.902614e+03         1.120000e+02  1.120000e+02   \n",
       "75%                  2.524325e+03         1.552000e+03  1.552000e+03   \n",
       "max                  3.599571e+03         1.570000e+03  1.570000e+03   \n",
       "\n",
       "       frame.cap_len  frame.marked  frame.ignored  ...  \\\n",
       "count      1795575.0     1795575.0      1795575.0  ...   \n",
       "mean             0.0           0.0            0.0  ...   \n",
       "std              0.0           0.0            0.0  ...   \n",
       "min              0.0           0.0            0.0  ...   \n",
       "25%              0.0           0.0            0.0  ...   \n",
       "50%              0.0           0.0            0.0  ...   \n",
       "75%              0.0           0.0            0.0  ...   \n",
       "max              0.0           0.0            0.0  ...   \n",
       "\n",
       "       radiotap.flags.shortgi  wlan.fc.type_subtype  wlan.fc.version  \\\n",
       "count            1.795575e+06             1795575.0     1.795575e+06   \n",
       "mean             2.513950e+01                   0.0     1.272582e+00   \n",
       "std              2.373590e+01                   0.0     8.198060e-01   \n",
       "min              1.000000e+00                   0.0     0.000000e+00   \n",
       "25%              1.000000e+00                   0.0     1.000000e+00   \n",
       "50%              2.400000e+01                   0.0     2.000000e+00   \n",
       "75%              5.400000e+01                   0.0     2.000000e+00   \n",
       "max              5.400000e+01                   0.0     2.000000e+00   \n",
       "\n",
       "       wlan.fc.type    wlan.fc.ds  wlan.fc.frag  wlan.fc.retry  \\\n",
       "count  1.795575e+06  1.795575e+06  1.795575e+06   1.795575e+06   \n",
       "mean   8.499055e+00  3.748103e-04  1.271080e-01   2.325216e-02   \n",
       "std    4.173015e+00  1.935639e-02  3.330940e-01   1.507034e-01   \n",
       "min    0.000000e+00  0.000000e+00  0.000000e+00   0.000000e+00   \n",
       "25%    8.000000e+00  0.000000e+00  0.000000e+00   0.000000e+00   \n",
       "50%    8.000000e+00  0.000000e+00  0.000000e+00   0.000000e+00   \n",
       "75%    1.200000e+01  0.000000e+00  0.000000e+00   0.000000e+00   \n",
       "max    1.300000e+01  1.000000e+00  1.000000e+00   1.000000e+00   \n",
       "\n",
       "       wlan.fc.pwrmgt  wlan.fc.moredata  wlan.fc.protected  \n",
       "count    1.795575e+06      1.795575e+06          1795575.0  \n",
       "mean     1.772691e-03      4.932927e-01                0.0  \n",
       "std      4.206602e-02      4.999551e-01                0.0  \n",
       "min      0.000000e+00      0.000000e+00                0.0  \n",
       "25%      0.000000e+00      0.000000e+00                0.0  \n",
       "50%      0.000000e+00      0.000000e+00                0.0  \n",
       "75%      0.000000e+00      1.000000e+00                0.0  \n",
       "max      1.000000e+00      1.000000e+00                0.0  \n",
       "\n",
       "[8 rows x 44 columns]"
      ]
     },
     "execution_count": 18,
     "metadata": {},
     "output_type": "execute_result"
    }
   ],
   "source": [
    "df.describe()"
   ]
  },
  {
   "cell_type": "code",
   "execution_count": 19,
   "metadata": {},
   "outputs": [
    {
     "data": {
      "text/plain": [
       "Index(['frame.dlt', 'frame.offset_shift', 'frame.time_epoch',\n",
       "       'frame.time_delta', 'frame.time_delta_displayed', 'frame.time_relative',\n",
       "       'frame.len', 'frame.cap_len', 'frame.marked', 'frame.ignored',\n",
       "       'radiotap.version', 'radiotap.pad', 'radiotap.length',\n",
       "       'radiotap.present.tsft', 'radiotap.present.flags',\n",
       "       'radiotap.present.rate', 'radiotap.present.channel',\n",
       "       'radiotap.present.fhss', 'radiotap.present.dbm_antsignal',\n",
       "       'radiotap.present.dbm_antnoise', 'radiotap.present.lock_quality',\n",
       "       'radiotap.present.tx_attenuation', 'radiotap.present.db_tx_attenuation',\n",
       "       'radiotap.present.dbm_tx_power', 'radiotap.present.antenna',\n",
       "       'radiotap.present.db_antsignal', 'radiotap.present.db_antnoise',\n",
       "       'radiotap.present.rxflags', 'radiotap.present.xchannel',\n",
       "       'radiotap.present.mcs', 'radiotap.present.ampdu',\n",
       "       'radiotap.present.vht', 'radiotap.present.reserved',\n",
       "       'radiotap.present.rtap_ns', 'radiotap.present.vendor_ns',\n",
       "       'radiotap.flags.shortgi', 'radiotap.rxflags.badplcp',\n",
       "       'wlan.fc.type_subtype', 'wlan.fc.version', 'wlan.fc.type',\n",
       "       'wlan.fc.subtype', 'wlan.fc.ds', 'wlan.fc.frag', 'wlan.fc.retry',\n",
       "       'wlan.fc.pwrmgt', 'wlan.fc.moredata', 'wlan.fc.protected', 'class'],\n",
       "      dtype='object')"
      ]
     },
     "execution_count": 19,
     "metadata": {},
     "output_type": "execute_result"
    }
   ],
   "source": [
    "df.columns"
   ]
  },
  {
   "cell_type": "markdown",
   "metadata": {},
   "source": [
    "## Step 2: Data Preparation"
   ]
  },
  {
   "cell_type": "code",
   "execution_count": 20,
   "metadata": {},
   "outputs": [],
   "source": [
    "# Save the cleaned dataset\n",
    "df.to_csv(\"./data/cleaned/cleaned_dataset.csv\", index=False)"
   ]
  },
  {
   "cell_type": "code",
   "execution_count": 22,
   "metadata": {},
   "outputs": [],
   "source": [
    "df_cleaned = pd.read_csv(\"./data/cleaned/cleaned_dataset.csv\")"
   ]
  },
  {
   "cell_type": "markdown",
   "metadata": {},
   "source": [
    "### XY-Split"
   ]
  },
  {
   "cell_type": "code",
   "execution_count": 23,
   "metadata": {},
   "outputs": [],
   "source": [
    "from sklearn.model_selection import train_test_split\n",
    "\n",
    "train_set, test_set = train_test_split(df_cleaned, test_size=0.2, random_state=42)"
   ]
  },
  {
   "cell_type": "markdown",
   "metadata": {},
   "source": [
    "### One-hot-encoding"
   ]
  },
  {
   "cell_type": "code",
   "execution_count": 31,
   "metadata": {},
   "outputs": [],
   "source": [
    "categorical_columns = train_set.select_dtypes(include=['object']).columns.drop('class')\n",
    "\n",
    "df_train_encoded = pd.get_dummies(train_set, columns=categorical_columns)\n",
    "df_test_encoded = pd.get_dummies(test_set, columns=categorical_columns)\n",
    "\n",
    "# Align the train and test sets to ensure they have the same columns\n",
    "df_train_encoded, df_test_encoded = df_train_encoded.align(df_test_encoded, join='left', axis=1, fill_value=0)"
   ]
  },
  {
   "cell_type": "code",
   "execution_count": 32,
   "metadata": {},
   "outputs": [],
   "source": [
    "# Save the encoded dataset\n",
    "df_train_encoded.to_csv(\"./data/encoded/train_set.csv\", index=False)\n",
    "df_test_encoded.to_csv(\"./data/encoded/test_set.csv\", index=False)"
   ]
  },
  {
   "cell_type": "markdown",
   "metadata": {},
   "source": [
    "## Step 4: Preparing dataset for modeling"
   ]
  },
  {
   "cell_type": "markdown",
   "metadata": {},
   "source": [
    "### A. Normalise numeric features"
   ]
  },
  {
   "cell_type": "code",
   "execution_count": 33,
   "metadata": {},
   "outputs": [],
   "source": [
    "# Get all numerical columns\n",
    "numerical_columns = df_train_encoded.select_dtypes(include=\"number\").columns"
   ]
  },
  {
   "cell_type": "code",
   "execution_count": 34,
   "metadata": {},
   "outputs": [],
   "source": [
    "from sklearn.preprocessing import MinMaxScaler\n",
    "scaler = MinMaxScaler()\n",
    "df_train_encoded[numerical_columns] = scaler.fit_transform(df_train_encoded[numerical_columns])\n",
    "df_test_encoded[numerical_columns] = scaler.fit_transform(df_test_encoded[numerical_columns])"
   ]
  },
  {
   "cell_type": "code",
   "execution_count": 35,
   "metadata": {},
   "outputs": [
    {
     "data": {
      "text/plain": [
       "Index(['frame.dlt', 'frame.offset_shift', 'frame.time_epoch',\n",
       "       'frame.time_delta', 'frame.time_delta_displayed', 'frame.time_relative',\n",
       "       'frame.len', 'frame.cap_len', 'frame.marked', 'frame.ignored',\n",
       "       'radiotap.version', 'radiotap.pad', 'radiotap.length',\n",
       "       'radiotap.present.tsft', 'radiotap.present.flags',\n",
       "       'radiotap.present.rate', 'radiotap.present.channel',\n",
       "       'radiotap.present.fhss', 'radiotap.present.dbm_antsignal',\n",
       "       'radiotap.present.dbm_antnoise', 'radiotap.present.lock_quality',\n",
       "       'radiotap.present.tx_attenuation', 'radiotap.present.db_tx_attenuation',\n",
       "       'radiotap.present.dbm_tx_power', 'radiotap.present.antenna',\n",
       "       'radiotap.present.db_antsignal', 'radiotap.present.db_antnoise',\n",
       "       'radiotap.present.rxflags', 'radiotap.present.xchannel',\n",
       "       'radiotap.present.mcs', 'radiotap.present.ampdu',\n",
       "       'radiotap.present.reserved', 'radiotap.present.rtap_ns',\n",
       "       'radiotap.present.vendor_ns', 'radiotap.flags.shortgi',\n",
       "       'wlan.fc.type_subtype', 'wlan.fc.version', 'wlan.fc.type', 'wlan.fc.ds',\n",
       "       'wlan.fc.frag', 'wlan.fc.retry', 'wlan.fc.pwrmgt', 'wlan.fc.moredata',\n",
       "       'wlan.fc.protected', 'class', 'radiotap.present.vht_0x00000000',\n",
       "       'radiotap.rxflags.badplcp_0x00', 'radiotap.rxflags.badplcp_0x01',\n",
       "       'radiotap.rxflags.badplcp_0x02', 'radiotap.rxflags.badplcp_0x03',\n",
       "       'radiotap.rxflags.badplcp_0x04', 'radiotap.rxflags.badplcp_0x05',\n",
       "       'radiotap.rxflags.badplcp_0x08', 'radiotap.rxflags.badplcp_0x0a',\n",
       "       'radiotap.rxflags.badplcp_0x0b', 'radiotap.rxflags.badplcp_0x0c',\n",
       "       'radiotap.rxflags.badplcp_0x0d', 'radiotap.rxflags.badplcp_0x18',\n",
       "       'radiotap.rxflags.badplcp_0x19', 'radiotap.rxflags.badplcp_0x1a',\n",
       "       'radiotap.rxflags.badplcp_0x1b', 'radiotap.rxflags.badplcp_0x1c',\n",
       "       'radiotap.rxflags.badplcp_0x1d', 'radiotap.rxflags.badplcp_0x20',\n",
       "       'radiotap.rxflags.badplcp_0x24', 'radiotap.rxflags.badplcp_0x28',\n",
       "       'radiotap.rxflags.badplcp_0x2c', 'wlan.fc.subtype_0x00',\n",
       "       'wlan.fc.subtype_0x01', 'wlan.fc.subtype_0x02'],\n",
       "      dtype='object')"
      ]
     },
     "execution_count": 35,
     "metadata": {},
     "output_type": "execute_result"
    }
   ],
   "source": [
    "df_train_encoded.columns"
   ]
  },
  {
   "cell_type": "markdown",
   "metadata": {},
   "source": [
    "### B. Map Labels to Multi-class"
   ]
  },
  {
   "cell_type": "code",
   "execution_count": 36,
   "metadata": {},
   "outputs": [
    {
     "data": {
      "text/plain": [
       "class\n",
       "normal                    1306753\n",
       "arp                         51681\n",
       "cafe_latte                  36669\n",
       "amok                        24879\n",
       "deauthentication             8313\n",
       "authentication_request       2754\n",
       "evil_twin                    2100\n",
       "beacon                       1468\n",
       "probe_response               1231\n",
       "fragmentation                 612\n",
       "Name: count, dtype: int64"
      ]
     },
     "execution_count": 36,
     "metadata": {},
     "output_type": "execute_result"
    }
   ],
   "source": [
    "df_train_encoded[\"class\"].value_counts()"
   ]
  },
  {
   "cell_type": "code",
   "execution_count": 55,
   "metadata": {},
   "outputs": [],
   "source": [
    "attack_mapping = {\n",
    "\t\"normal\": 1,\n",
    "\t\"arp\": 2,\n",
    "\t\"cafe_latte\": 3,\n",
    "\t\"amok\": 4,\n",
    "\t\"deauthentication\": 5,\n",
    "\t\"authentication_request\": 6,\n",
    "\t\"evil_twin\": 7,\n",
    "\t\"beacon\": 8,\n",
    "\t\"probe_response\": 9,\n",
    "\t\"fragmentation\": 10\n",
    "}\n",
    "\n",
    "df[\"class\"] = df[\"class\"].map(attack_mapping)"
   ]
  },
  {
   "cell_type": "code",
   "execution_count": 56,
   "metadata": {},
   "outputs": [
    {
     "data": {
      "text/plain": [
       "class\n",
       "1     1306753\n",
       "2       51681\n",
       "3       36669\n",
       "4       24879\n",
       "5        8313\n",
       "6        2754\n",
       "7        2100\n",
       "8        1468\n",
       "9        1231\n",
       "10        612\n",
       "Name: count, dtype: int64"
      ]
     },
     "execution_count": 56,
     "metadata": {},
     "output_type": "execute_result"
    }
   ],
   "source": [
    "df[\"class\"].value_counts()"
   ]
  },
  {
   "cell_type": "markdown",
   "metadata": {},
   "source": [
    "### C. Data Splitting"
   ]
  },
  {
   "cell_type": "code",
   "execution_count": 57,
   "metadata": {},
   "outputs": [],
   "source": [
    "df = df_train_encoded\n",
    "df_test = df_test_encoded"
   ]
  },
  {
   "cell_type": "code",
   "execution_count": 58,
   "metadata": {},
   "outputs": [],
   "source": [
    "from sklearn.model_selection import train_test_split\n",
    "\n",
    "X = df.drop(columns=\"class\")\n",
    "y = df[\"class\"]\n",
    "\n",
    "X_train, X_test, y_train, y_test = train_test_split(X, y, test_size=0.2, random_state=42)"
   ]
  },
  {
   "cell_type": "markdown",
   "metadata": {},
   "source": [
    "### D. PyTorch Model Architecture"
   ]
  },
  {
   "cell_type": "code",
   "execution_count": 60,
   "metadata": {},
   "outputs": [],
   "source": [
    "import torch\n",
    "import torch.nn as nn\n",
    "\n",
    "class NetworkIDSModel(nn.Module):\n",
    "    def __init__(self, input_size, hidden_size, output_size):\n",
    "        super(NetworkIDSModel, self).__init__()\n",
    "        self.fc1 = nn.Linear(input_size, hidden_size)\n",
    "        self.relu = nn.ReLU()\n",
    "        self.fc2 = nn.Linear(hidden_size, output_size)\n",
    "        self.softmax = nn.Softmax(dim=1)\n",
    "\n",
    "    def forward(self, x):\n",
    "        x = self.fc1(x)\n",
    "        x = self.relu(x)\n",
    "        x = self.fc2(x)\n",
    "        return self.softmax(x)\n",
    "\n",
    "# Define the input size (number of features), hidden layers, and output size (number of classes)\n",
    "input_size = X_train.shape[1]\n",
    "hidden_size = 64  # You can experiment with this\n",
    "output_size = len(attack_mapping)  # Depends on binary or multi-class\n",
    "\n",
    "model = NetworkIDSModel(input_size, hidden_size, output_size)"
   ]
  },
  {
   "cell_type": "markdown",
   "metadata": {},
   "source": [
    "### E. Training the model"
   ]
  },
  {
   "cell_type": "code",
   "execution_count": 61,
   "metadata": {},
   "outputs": [
    {
     "name": "stdout",
     "output_type": "stream",
     "text": [
      "cuda\n"
     ]
    }
   ],
   "source": [
    "device = \"cuda\" if torch.cuda.is_available() else \"cpu\"\n",
    "print(device)"
   ]
  },
  {
   "cell_type": "code",
   "execution_count": 72,
   "metadata": {},
   "outputs": [
    {
     "ename": "TypeError",
     "evalue": "can't convert np.ndarray of type numpy.object_. The only supported types are: float64, float32, float16, complex64, complex128, int64, int32, int16, int8, uint64, uint32, uint16, uint8, and bool.",
     "output_type": "error",
     "traceback": [
      "\u001b[1;31m---------------------------------------------------------------------------\u001b[0m",
      "\u001b[1;31mTypeError\u001b[0m                                 Traceback (most recent call last)",
      "Cell \u001b[1;32mIn[72], line 16\u001b[0m\n\u001b[0;32m     12\u001b[0m \u001b[38;5;66;03m# Convert the data to PyTorch tensors\u001b[39;00m\n\u001b[0;32m     13\u001b[0m \u001b[38;5;66;03m# Ensure labels are mapped to integers\u001b[39;00m\n\u001b[0;32m     14\u001b[0m y_train \u001b[38;5;241m=\u001b[39m y_train\u001b[38;5;241m.\u001b[39mmap(attack_mapping)\n\u001b[1;32m---> 16\u001b[0m X_train_tensor \u001b[38;5;241m=\u001b[39m \u001b[43mtorch\u001b[49m\u001b[38;5;241;43m.\u001b[39;49m\u001b[43mtensor\u001b[49m\u001b[43m(\u001b[49m\u001b[43mX_train\u001b[49m\u001b[38;5;241;43m.\u001b[39;49m\u001b[43mvalues\u001b[49m\u001b[43m,\u001b[49m\u001b[43m \u001b[49m\u001b[43mdtype\u001b[49m\u001b[38;5;241;43m=\u001b[39;49m\u001b[43mtorch\u001b[49m\u001b[38;5;241;43m.\u001b[39;49m\u001b[43mfloat32\u001b[49m\u001b[43m)\u001b[49m\n\u001b[0;32m     17\u001b[0m y_train_tensor \u001b[38;5;241m=\u001b[39m torch\u001b[38;5;241m.\u001b[39mtensor(y_train\u001b[38;5;241m.\u001b[39mvalues, dtype\u001b[38;5;241m=\u001b[39mtorch\u001b[38;5;241m.\u001b[39mint64)\n\u001b[0;32m     19\u001b[0m train_dataset \u001b[38;5;241m=\u001b[39m TensorDataset(X_train_tensor, y_train_tensor)\n",
      "\u001b[1;31mTypeError\u001b[0m: can't convert np.ndarray of type numpy.object_. The only supported types are: float64, float32, float16, complex64, complex128, int64, int32, int16, int8, uint64, uint32, uint16, uint8, and bool."
     ]
    }
   ],
   "source": [
    "from torch.utils.data import DataLoader, TensorDataset\n",
    "import torch.optim as optim\n",
    "\n",
    "# Ensure all values in X_train are numeric\n",
    "X_train = X_train.apply(pd.to_numeric, errors='coerce')\n",
    "y_train = y_train.apply(pd.to_numeric, errors='coerce')\n",
    "\n",
    "# Drop rows with NaN values that may have been introduced\n",
    "X_train.dropna(inplace=True)\n",
    "y_train.dropna(inplace=True)\n",
    "\n",
    "# Convert the data to PyTorch tensors\n",
    "# Ensure labels are mapped to integers\n",
    "y_train = y_train.map(attack_mapping)\n",
    "\n",
    "X_train_tensor = torch.tensor(X_train.values, dtype=torch.float32)\n",
    "y_train_tensor = torch.tensor(y_train.values, dtype=torch.int64)\n",
    "\n",
    "train_dataset = TensorDataset(X_train_tensor, y_train_tensor)\n",
    "train_loader = DataLoader(train_dataset, batch_size=64, shuffle=True)\n",
    "\n",
    "# Define the loss function and optimizer\n",
    "criterion = nn.CrossEntropyLoss()  # For multi-class classification\n",
    "optimizer = optim.Adam(model.parameters(), lr=0.001)\n",
    "\n",
    "# Training loop\n",
    "num_epochs = 10  # You can experiment with this\n",
    "for epoch in range(num_epochs):\n",
    "\ttotal_loss = 0\n",
    "\tcorrect = 0\n",
    "\ttotal = 0\n",
    "\t\n",
    "\tfor data, labels in train_loader:\n",
    "\t\t# Zero the gradients\n",
    "\t\toptimizer.zero_grad()\n",
    "\t\t\n",
    "\t\t# Forward pass\n",
    "\t\toutputs = model(data)\n",
    "\t\tloss = criterion(outputs, labels)\n",
    "\t\t\n",
    "\t\t# Backward pass and optimize\n",
    "\t\tloss.backward()\n",
    "\t\toptimizer.step()\n",
    "\t\t\n",
    "\t\t# Track loss\n",
    "\t\ttotal_loss += loss.item()\n",
    "\t\t\n",
    "\t\t# Calculate accuracy\n",
    "\t\t_, predicted = torch.max(outputs.data, 1)\n",
    "\t\ttotal += labels.size(0)\n",
    "\t\tcorrect += (predicted == labels).sum().item()\n",
    "\t\n",
    "\tepoch_loss = total_loss / len(train_loader)\n",
    "\tepoch_accuracy = correct / total\n",
    "\t\n",
    "\tprint(f'[Epoch {epoch+1}/{num_epochs}]:\tloss: {epoch_loss:.4f} ; accuracy: {epoch_accuracy:.4f}')"
   ]
  },
  {
   "cell_type": "markdown",
   "metadata": {},
   "source": [
    "### F. Evaluating the Model"
   ]
  },
  {
   "cell_type": "code",
   "execution_count": null,
   "metadata": {},
   "outputs": [],
   "source": [
    "# Convert test data to tensor\n",
    "y_test = y_test.map(attack_mapping).astype(int)\n",
    "X_test_tensor = torch.tensor(X_test.values, dtype=torch.float32)\n",
    "y_test_tensor = torch.tensor(y_test.values, dtype=torch.long)\n",
    "\n",
    "# Make predictions\n",
    "model.eval()\n",
    "with torch.no_grad():\n",
    "\toutputs = model(X_test_tensor)\n",
    "\t_, predicted = torch.max(outputs.data, 1)\n",
    "\n",
    "# Calculate accuracy\n",
    "correct = (predicted == y_test_tensor).sum().item()\n",
    "accuracy = correct / len(y_test_tensor)\n",
    "\n",
    "print(f'Accuracy: {accuracy * 100:.2f}%')"
   ]
  },
  {
   "cell_type": "code",
   "execution_count": null,
   "metadata": {},
   "outputs": [],
   "source": [
    "torch.save(model.state_dict(), './models/ids_model.pth')"
   ]
  },
  {
   "cell_type": "code",
   "execution_count": null,
   "metadata": {},
   "outputs": [],
   "source": [
    "model.load_state_dict(torch.load('./models/ids_model.pth', weights_only=True))\n",
    "model.eval()"
   ]
  }
 ],
 "metadata": {
  "kernelspec": {
   "display_name": "Python 3",
   "language": "python",
   "name": "python3"
  },
  "language_info": {
   "codemirror_mode": {
    "name": "ipython",
    "version": 3
   },
   "file_extension": ".py",
   "mimetype": "text/x-python",
   "name": "python",
   "nbconvert_exporter": "python",
   "pygments_lexer": "ipython3",
   "version": "3.12.7"
  }
 },
 "nbformat": 4,
 "nbformat_minor": 2
}
